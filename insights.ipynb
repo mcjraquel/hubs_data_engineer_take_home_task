{
 "cells": [
  {
   "attachments": {},
   "cell_type": "markdown",
   "id": "d28c4e04",
   "metadata": {},
   "source": [
    "# Hubs Take-home Task Insights\n",
    "\n",
    "Hello! These are insights about the holes data that I've gathered from the raw data provided for DFM analysis, which is then transformed using the transformation pipeline I designed shown in the photo found in the same directory of this notebook.\n",
    "\n",
    "In this notebook, the transformed table for the holes data from Pandas DataFrames are ingested into a SQLite database, and I query from this table to gather insights.\n"
   ]
  },
  {
   "attachments": {},
   "cell_type": "markdown",
   "id": "88cd7266",
   "metadata": {},
   "source": [
    "### Import required packages and functions"
   ]
  },
  {
   "cell_type": "code",
   "execution_count": 1,
   "id": "d57048b2",
   "metadata": {},
   "outputs": [],
   "source": [
    "import pandas as pd\n",
    "import json\n",
    "from sqlalchemy import create_engine, text\n",
    "from data_transformation.main import main"
   ]
  },
  {
   "attachments": {},
   "cell_type": "markdown",
   "id": "737801ac",
   "metadata": {},
   "source": [
    "### Raw data"
   ]
  },
  {
   "attachments": {},
   "cell_type": "markdown",
   "id": "d4687f1e",
   "metadata": {},
   "source": [
    "First, I extract the data from the provided Parquet file using Pandas's `read_parquet` method."
   ]
  },
  {
   "cell_type": "code",
   "execution_count": 2,
   "id": "f9d77cbf",
   "metadata": {},
   "outputs": [],
   "source": [
    "data = pd.read_parquet(\"2023 DE_case_dataset.gz.parquet\")"
   ]
  },
  {
   "cell_type": "code",
   "execution_count": 3,
   "id": "f91201a0",
   "metadata": {},
   "outputs": [
    {
     "data": {
      "text/html": [
       "<div>\n",
       "<style scoped>\n",
       "    .dataframe tbody tr th:only-of-type {\n",
       "        vertical-align: middle;\n",
       "    }\n",
       "\n",
       "    .dataframe tbody tr th {\n",
       "        vertical-align: top;\n",
       "    }\n",
       "\n",
       "    .dataframe thead th {\n",
       "        text-align: right;\n",
       "    }\n",
       "</style>\n",
       "<table border=\"1\" class=\"dataframe\">\n",
       "  <thead>\n",
       "    <tr style=\"text-align: right;\">\n",
       "      <th></th>\n",
       "      <th>created</th>\n",
       "      <th>updated</th>\n",
       "      <th>queued</th>\n",
       "      <th>geometric_heuristics</th>\n",
       "      <th>holes</th>\n",
       "      <th>job_run_time</th>\n",
       "      <th>latheability</th>\n",
       "      <th>machining_directions</th>\n",
       "      <th>multipart</th>\n",
       "      <th>neighbors</th>\n",
       "      <th>poles</th>\n",
       "      <th>sheet_like_shape</th>\n",
       "      <th>unmachinable_edges</th>\n",
       "      <th>extrusion_height</th>\n",
       "      <th>units</th>\n",
       "      <th>status</th>\n",
       "      <th>time</th>\n",
       "      <th>uuid</th>\n",
       "    </tr>\n",
       "  </thead>\n",
       "  <tbody>\n",
       "    <tr>\n",
       "      <th>0</th>\n",
       "      <td>2020-02-15 22:46:41</td>\n",
       "      <td>2020-02-15 22:47:00</td>\n",
       "      <td>2020-02-15 22:46:42</td>\n",
       "      <td>{\"unit\":\"milliseconds\",\"value\":56}</td>\n",
       "      <td>&lt;NA&gt;</td>\n",
       "      <td>{\"unit\":\"milliseconds\",\"value\":7491}</td>\n",
       "      <td>{\"axis\":{\"x\":1,\"y\":0,\"z\":0},\"fraction\":0.84588...</td>\n",
       "      <td>{\"box_volume\":{\"unit\":\"mm3\",\"value\":15590.8676...</td>\n",
       "      <td>{\"multibody\":false,\"patches\":{\"count\":1,\"not_t...</td>\n",
       "      <td>{\"unit\":\"mm3\",\"value\":[8576,6425,3703,762,24,0...</td>\n",
       "      <td>&lt;NA&gt;</td>\n",
       "      <td>&lt;NA&gt;</td>\n",
       "      <td>{\"count\":1469,\"edge_list_url\":\"s3://3dhubs-pro...</td>\n",
       "      <td>NaN</td>\n",
       "      <td>mm</td>\n",
       "      <td>completed</td>\n",
       "      <td>7547</td>\n",
       "      <td>92fe59e7-eae0-4ba9-bf74-22a82f2c2c83</td>\n",
       "    </tr>\n",
       "    <tr>\n",
       "      <th>1</th>\n",
       "      <td>2020-05-13 14:17:10</td>\n",
       "      <td>2020-05-13 14:17:11</td>\n",
       "      <td>2020-05-13 14:17:10</td>\n",
       "      <td>{\"unit\":\"milliseconds\",\"value\":44}</td>\n",
       "      <td>&lt;NA&gt;</td>\n",
       "      <td>{\"unit\":\"milliseconds\",\"value\":1143}</td>\n",
       "      <td>{\"axis\":{\"x\":0,\"y\":0,\"z\":1},\"fraction\":0.84486...</td>\n",
       "      <td>{\"box_volume\":{\"unit\":\"mm3\",\"value\":6241.536},...</td>\n",
       "      <td>{\"multibody\":false,\"patches\":{\"count\":1,\"not_t...</td>\n",
       "      <td>{\"unit\":\"mm3\",\"value\":[374,4058,0,0,28,68,0]}</td>\n",
       "      <td>&lt;NA&gt;</td>\n",
       "      <td>{\"detected\":true,\"positive_fraction_of_samples...</td>\n",
       "      <td>{\"count\":0,\"edge_list_url\":\"s3://3dhubs-produc...</td>\n",
       "      <td>NaN</td>\n",
       "      <td>mm</td>\n",
       "      <td>completed</td>\n",
       "      <td>1187</td>\n",
       "      <td>0dd8b940-6b35-4ed5-a981-ce05e0734b4f</td>\n",
       "    </tr>\n",
       "    <tr>\n",
       "      <th>2</th>\n",
       "      <td>2022-02-16 16:27:18</td>\n",
       "      <td>2022-02-16 16:27:19</td>\n",
       "      <td>2022-02-16 16:27:18</td>\n",
       "      <td>{\"unit\":\"milliseconds\",\"value\":67}</td>\n",
       "      <td>[{\"center\":{\"x\":4.254160968e-24,\"y\":8.73124980...</td>\n",
       "      <td>{\"unit\":\"milliseconds\",\"value\":1161}</td>\n",
       "      <td>{\"axis\":{\"x\":0,\"y\":1,\"z\":0},\"fraction\":1,\"orig...</td>\n",
       "      <td>{\"box_volume\":{\"unit\":\"mm3\",\"value\":10455.28},...</td>\n",
       "      <td>{\"multibody\":false,\"patches\":{\"count\":1,\"not_t...</td>\n",
       "      <td>{\"unit\":\"mm3\",\"value\":[591,2421,2404,1524,1009...</td>\n",
       "      <td>&lt;NA&gt;</td>\n",
       "      <td>{\"detected\":true,\"positive_fraction_of_samples...</td>\n",
       "      <td>{\"count\":0,\"edge_list_url\":\"s3://3dhubs-produc...</td>\n",
       "      <td>NaN</td>\n",
       "      <td>mm</td>\n",
       "      <td>completed</td>\n",
       "      <td>1228.0</td>\n",
       "      <td>9691095c-d562-4bda-813f-7dbe7398d686</td>\n",
       "    </tr>\n",
       "    <tr>\n",
       "      <th>3</th>\n",
       "      <td>2021-05-17 16:42:08</td>\n",
       "      <td>2021-05-17 16:42:10</td>\n",
       "      <td>2021-05-17 16:42:08</td>\n",
       "      <td>{\"unit\":\"milliseconds\",\"value\":57}</td>\n",
       "      <td>[{\"center\":{\"x\":0,\"y\":0,\"z\":28.8500003815},\"di...</td>\n",
       "      <td>{\"unit\":\"milliseconds\",\"value\":1910}</td>\n",
       "      <td>{\"axis\":{\"x\":0,\"y\":0,\"z\":1},\"fraction\":0.88210...</td>\n",
       "      <td>{\"box_volume\":{\"unit\":\"mm3\",\"value\":26218.712}...</td>\n",
       "      <td>{\"multibody\":false,\"patches\":{\"count\":1,\"not_t...</td>\n",
       "      <td>{\"unit\":\"mm3\",\"value\":[3588,8766,4560,516,780,...</td>\n",
       "      <td>[{\"center\":{\"x\":-2.782968637e-24,\"y\":-2.782968...</td>\n",
       "      <td>{\"detected\":false,\"positive_fraction_of_sample...</td>\n",
       "      <td>{\"count\":0,\"edge_list_url\":\"s3://3dhubs-produc...</td>\n",
       "      <td>NaN</td>\n",
       "      <td>mm</td>\n",
       "      <td>completed</td>\n",
       "      <td>1967</td>\n",
       "      <td>66102ac6-37a3-45b7-97dd-56d02b6ac651</td>\n",
       "    </tr>\n",
       "    <tr>\n",
       "      <th>4</th>\n",
       "      <td>2019-11-01 05:34:37</td>\n",
       "      <td>2019-11-01 05:34:43</td>\n",
       "      <td>2019-11-01 05:34:37</td>\n",
       "      <td>{\"unit\":\"milliseconds\",\"value\":75}</td>\n",
       "      <td>&lt;NA&gt;</td>\n",
       "      <td>{\"unit\":\"milliseconds\",\"value\":5949}</td>\n",
       "      <td>{\"axis\":{\"x\":1,\"y\":0,\"z\":0},\"fraction\":0.93670...</td>\n",
       "      <td>{\"box_volume\":{\"unit\":\"mm3\",\"value\":184171.806...</td>\n",
       "      <td>{\"multibody\":false,\"patches\":{\"count\":1,\"not_t...</td>\n",
       "      <td>{\"unit\":\"mm3\",\"value\":[91270,55336,40349,10925...</td>\n",
       "      <td>&lt;NA&gt;</td>\n",
       "      <td>&lt;NA&gt;</td>\n",
       "      <td>{\"count\":0,\"edge_list_url\":\"s3://3dhubs-produc...</td>\n",
       "      <td>NaN</td>\n",
       "      <td>mm</td>\n",
       "      <td>completed</td>\n",
       "      <td>6024</td>\n",
       "      <td>2c9d084c-dd69-4aff-8b85-a50d0f657372</td>\n",
       "    </tr>\n",
       "    <tr>\n",
       "      <th>...</th>\n",
       "      <td>...</td>\n",
       "      <td>...</td>\n",
       "      <td>...</td>\n",
       "      <td>...</td>\n",
       "      <td>...</td>\n",
       "      <td>...</td>\n",
       "      <td>...</td>\n",
       "      <td>...</td>\n",
       "      <td>...</td>\n",
       "      <td>...</td>\n",
       "      <td>...</td>\n",
       "      <td>...</td>\n",
       "      <td>...</td>\n",
       "      <td>...</td>\n",
       "      <td>...</td>\n",
       "      <td>...</td>\n",
       "      <td>...</td>\n",
       "      <td>...</td>\n",
       "    </tr>\n",
       "    <tr>\n",
       "      <th>19995</th>\n",
       "      <td>2022-09-28 04:09:00</td>\n",
       "      <td>2022-09-28 04:09:09</td>\n",
       "      <td>2022-09-28 04:09:00</td>\n",
       "      <td>{\"unit\":\"milliseconds\",\"value\":139}</td>\n",
       "      <td>[{\"center\":{\"x\":9.0000002384,\"y\":4.4444442689,...</td>\n",
       "      <td>{\"unit\":\"milliseconds\",\"value\":8879}</td>\n",
       "      <td>{\"axis\":{\"x\":0,\"y\":0,\"z\":1},\"fraction\":0.44566...</td>\n",
       "      <td>{\"box_volume\":{\"unit\":\"mm3\",\"value\":113319.36}...</td>\n",
       "      <td>{\"multibody\":false,\"patches\":{\"count\":1,\"not_t...</td>\n",
       "      <td>{\"unit\":\"mm3\",\"value\":[85194,31491,6508,687,75...</td>\n",
       "      <td>&lt;NA&gt;</td>\n",
       "      <td>{\"detected\":false,\"positive_fraction_of_sample...</td>\n",
       "      <td>{\"count\":38,\"edge_list_url\":\"s3://3dhubs-produ...</td>\n",
       "      <td>NaN</td>\n",
       "      <td>mm</td>\n",
       "      <td>completed</td>\n",
       "      <td>9018.0</td>\n",
       "      <td>8de71a88-b70f-4597-b02a-c4527e0bc4e5</td>\n",
       "    </tr>\n",
       "    <tr>\n",
       "      <th>19996</th>\n",
       "      <td>2021-02-25 12:34:50</td>\n",
       "      <td>2021-10-18 20:18:42</td>\n",
       "      <td>2021-10-18 20:18:40</td>\n",
       "      <td>{\"unit\":\"milliseconds\",\"value\":81}</td>\n",
       "      <td>[{\"center\":{\"x\":-77.1317098612,\"y\":-76.9670063...</td>\n",
       "      <td>{\"unit\":\"milliseconds\",\"value\":2117}</td>\n",
       "      <td>{\"axis\":{\"x\":0,\"y\":0,\"z\":1},\"fraction\":0.40685...</td>\n",
       "      <td>{\"box_volume\":{\"unit\":\"mm3\",\"value\":133648.128...</td>\n",
       "      <td>{\"multibody\":false,\"patches\":{\"count\":4,\"not_t...</td>\n",
       "      <td>{\"unit\":\"mm3\",\"value\":[78616,27113,17273,671,7...</td>\n",
       "      <td>&lt;NA&gt;</td>\n",
       "      <td>{\"detected\":false,\"positive_fraction_of_sample...</td>\n",
       "      <td>{\"count\":0,\"edge_list_url\":\"s3://3dhubs-produc...</td>\n",
       "      <td>NaN</td>\n",
       "      <td>mm</td>\n",
       "      <td>completed</td>\n",
       "      <td>2198</td>\n",
       "      <td>a9e8292d-d0dd-43ae-bb96-63ed1a6ecf29</td>\n",
       "    </tr>\n",
       "    <tr>\n",
       "      <th>19997</th>\n",
       "      <td>2020-08-12 13:34:05</td>\n",
       "      <td>2020-08-12 13:34:31</td>\n",
       "      <td>2020-08-12 13:34:05</td>\n",
       "      <td>{\"unit\":\"milliseconds\",\"value\":86}</td>\n",
       "      <td>&lt;NA&gt;</td>\n",
       "      <td>{\"unit\":\"milliseconds\",\"value\":25690}</td>\n",
       "      <td>{\"axis\":{\"x\":0,\"y\":0,\"z\":1},\"fraction\":0.62808...</td>\n",
       "      <td>{\"box_volume\":{\"unit\":\"mm3\",\"value\":29659596.7...</td>\n",
       "      <td>{\"multibody\":false,\"patches\":{\"count\":1,\"not_t...</td>\n",
       "      <td>{\"unit\":\"mm3\",\"value\":[23162814,2335811,133032...</td>\n",
       "      <td>&lt;NA&gt;</td>\n",
       "      <td>{\"detected\":false,\"positive_fraction_of_sample...</td>\n",
       "      <td>{\"count\":16,\"edge_list_url\":\"s3://3dhubs-produ...</td>\n",
       "      <td>NaN</td>\n",
       "      <td>mm</td>\n",
       "      <td>completed</td>\n",
       "      <td>25776</td>\n",
       "      <td>944c8cfb-17c9-44e8-95b8-7f3d1f47c7a6</td>\n",
       "    </tr>\n",
       "    <tr>\n",
       "      <th>19998</th>\n",
       "      <td>2020-06-05 19:57:20</td>\n",
       "      <td>2020-06-05 19:57:35</td>\n",
       "      <td>2020-06-05 19:57:20</td>\n",
       "      <td>{\"unit\":\"milliseconds\",\"value\":59}</td>\n",
       "      <td>&lt;NA&gt;</td>\n",
       "      <td>{\"unit\":\"milliseconds\",\"value\":14093}</td>\n",
       "      <td>{\"axis\":{\"x\":0,\"y\":0,\"z\":1},\"fraction\":0.70382...</td>\n",
       "      <td>{\"box_volume\":{\"unit\":\"mm3\",\"value\":1253182.31...</td>\n",
       "      <td>{\"multibody\":false,\"patches\":{\"count\":13,\"not_...</td>\n",
       "      <td>{\"unit\":\"mm3\",\"value\":[183065,857294,14032,975...</td>\n",
       "      <td>&lt;NA&gt;</td>\n",
       "      <td>{\"detected\":true,\"positive_fraction_of_samples...</td>\n",
       "      <td>{\"count\":0,\"edge_list_url\":\"s3://3dhubs-produc...</td>\n",
       "      <td>NaN</td>\n",
       "      <td>mm</td>\n",
       "      <td>completed</td>\n",
       "      <td>14152</td>\n",
       "      <td>81de3f65-199c-4ce9-883e-274179eeaa1d</td>\n",
       "    </tr>\n",
       "    <tr>\n",
       "      <th>19999</th>\n",
       "      <td>2020-11-14 10:08:04</td>\n",
       "      <td>2020-11-14 10:09:38</td>\n",
       "      <td>2020-11-14 10:08:05</td>\n",
       "      <td>{\"unit\":\"milliseconds\",\"value\":57}</td>\n",
       "      <td>&lt;NA&gt;</td>\n",
       "      <td>{\"unit\":\"milliseconds\",\"value\":5252}</td>\n",
       "      <td>{\"axis\":{\"x\":1,\"y\":0,\"z\":0},\"fraction\":0.26940...</td>\n",
       "      <td>{\"box_volume\":{\"unit\":\"mm3\",\"value\":207016.846...</td>\n",
       "      <td>{\"multibody\":false,\"patches\":{\"count\":1,\"not_t...</td>\n",
       "      <td>{\"unit\":\"mm3\",\"value\":[302737,79427,10992,5853...</td>\n",
       "      <td>&lt;NA&gt;</td>\n",
       "      <td>{\"detected\":true,\"positive_fraction_of_samples...</td>\n",
       "      <td>{\"count\":0,\"edge_list_url\":\"s3://3dhubs-produc...</td>\n",
       "      <td>NaN</td>\n",
       "      <td>cm</td>\n",
       "      <td>completed</td>\n",
       "      <td>5309</td>\n",
       "      <td>efc9d148-f705-4605-a886-b6d6d5cb31de</td>\n",
       "    </tr>\n",
       "  </tbody>\n",
       "</table>\n",
       "<p>20000 rows × 18 columns</p>\n",
       "</div>"
      ],
      "text/plain": [
       "                   created              updated               queued  \\\n",
       "0      2020-02-15 22:46:41  2020-02-15 22:47:00  2020-02-15 22:46:42   \n",
       "1      2020-05-13 14:17:10  2020-05-13 14:17:11  2020-05-13 14:17:10   \n",
       "2      2022-02-16 16:27:18  2022-02-16 16:27:19  2022-02-16 16:27:18   \n",
       "3      2021-05-17 16:42:08  2021-05-17 16:42:10  2021-05-17 16:42:08   \n",
       "4      2019-11-01 05:34:37  2019-11-01 05:34:43  2019-11-01 05:34:37   \n",
       "...                    ...                  ...                  ...   \n",
       "19995  2022-09-28 04:09:00  2022-09-28 04:09:09  2022-09-28 04:09:00   \n",
       "19996  2021-02-25 12:34:50  2021-10-18 20:18:42  2021-10-18 20:18:40   \n",
       "19997  2020-08-12 13:34:05  2020-08-12 13:34:31  2020-08-12 13:34:05   \n",
       "19998  2020-06-05 19:57:20  2020-06-05 19:57:35  2020-06-05 19:57:20   \n",
       "19999  2020-11-14 10:08:04  2020-11-14 10:09:38  2020-11-14 10:08:05   \n",
       "\n",
       "                      geometric_heuristics  \\\n",
       "0       {\"unit\":\"milliseconds\",\"value\":56}   \n",
       "1       {\"unit\":\"milliseconds\",\"value\":44}   \n",
       "2       {\"unit\":\"milliseconds\",\"value\":67}   \n",
       "3       {\"unit\":\"milliseconds\",\"value\":57}   \n",
       "4       {\"unit\":\"milliseconds\",\"value\":75}   \n",
       "...                                    ...   \n",
       "19995  {\"unit\":\"milliseconds\",\"value\":139}   \n",
       "19996   {\"unit\":\"milliseconds\",\"value\":81}   \n",
       "19997   {\"unit\":\"milliseconds\",\"value\":86}   \n",
       "19998   {\"unit\":\"milliseconds\",\"value\":59}   \n",
       "19999   {\"unit\":\"milliseconds\",\"value\":57}   \n",
       "\n",
       "                                                   holes  \\\n",
       "0                                                   <NA>   \n",
       "1                                                   <NA>   \n",
       "2      [{\"center\":{\"x\":4.254160968e-24,\"y\":8.73124980...   \n",
       "3      [{\"center\":{\"x\":0,\"y\":0,\"z\":28.8500003815},\"di...   \n",
       "4                                                   <NA>   \n",
       "...                                                  ...   \n",
       "19995  [{\"center\":{\"x\":9.0000002384,\"y\":4.4444442689,...   \n",
       "19996  [{\"center\":{\"x\":-77.1317098612,\"y\":-76.9670063...   \n",
       "19997                                               <NA>   \n",
       "19998                                               <NA>   \n",
       "19999                                               <NA>   \n",
       "\n",
       "                                job_run_time  \\\n",
       "0       {\"unit\":\"milliseconds\",\"value\":7491}   \n",
       "1       {\"unit\":\"milliseconds\",\"value\":1143}   \n",
       "2       {\"unit\":\"milliseconds\",\"value\":1161}   \n",
       "3       {\"unit\":\"milliseconds\",\"value\":1910}   \n",
       "4       {\"unit\":\"milliseconds\",\"value\":5949}   \n",
       "...                                      ...   \n",
       "19995   {\"unit\":\"milliseconds\",\"value\":8879}   \n",
       "19996   {\"unit\":\"milliseconds\",\"value\":2117}   \n",
       "19997  {\"unit\":\"milliseconds\",\"value\":25690}   \n",
       "19998  {\"unit\":\"milliseconds\",\"value\":14093}   \n",
       "19999   {\"unit\":\"milliseconds\",\"value\":5252}   \n",
       "\n",
       "                                            latheability  \\\n",
       "0      {\"axis\":{\"x\":1,\"y\":0,\"z\":0},\"fraction\":0.84588...   \n",
       "1      {\"axis\":{\"x\":0,\"y\":0,\"z\":1},\"fraction\":0.84486...   \n",
       "2      {\"axis\":{\"x\":0,\"y\":1,\"z\":0},\"fraction\":1,\"orig...   \n",
       "3      {\"axis\":{\"x\":0,\"y\":0,\"z\":1},\"fraction\":0.88210...   \n",
       "4      {\"axis\":{\"x\":1,\"y\":0,\"z\":0},\"fraction\":0.93670...   \n",
       "...                                                  ...   \n",
       "19995  {\"axis\":{\"x\":0,\"y\":0,\"z\":1},\"fraction\":0.44566...   \n",
       "19996  {\"axis\":{\"x\":0,\"y\":0,\"z\":1},\"fraction\":0.40685...   \n",
       "19997  {\"axis\":{\"x\":0,\"y\":0,\"z\":1},\"fraction\":0.62808...   \n",
       "19998  {\"axis\":{\"x\":0,\"y\":0,\"z\":1},\"fraction\":0.70382...   \n",
       "19999  {\"axis\":{\"x\":1,\"y\":0,\"z\":0},\"fraction\":0.26940...   \n",
       "\n",
       "                                    machining_directions  \\\n",
       "0      {\"box_volume\":{\"unit\":\"mm3\",\"value\":15590.8676...   \n",
       "1      {\"box_volume\":{\"unit\":\"mm3\",\"value\":6241.536},...   \n",
       "2      {\"box_volume\":{\"unit\":\"mm3\",\"value\":10455.28},...   \n",
       "3      {\"box_volume\":{\"unit\":\"mm3\",\"value\":26218.712}...   \n",
       "4      {\"box_volume\":{\"unit\":\"mm3\",\"value\":184171.806...   \n",
       "...                                                  ...   \n",
       "19995  {\"box_volume\":{\"unit\":\"mm3\",\"value\":113319.36}...   \n",
       "19996  {\"box_volume\":{\"unit\":\"mm3\",\"value\":133648.128...   \n",
       "19997  {\"box_volume\":{\"unit\":\"mm3\",\"value\":29659596.7...   \n",
       "19998  {\"box_volume\":{\"unit\":\"mm3\",\"value\":1253182.31...   \n",
       "19999  {\"box_volume\":{\"unit\":\"mm3\",\"value\":207016.846...   \n",
       "\n",
       "                                               multipart  \\\n",
       "0      {\"multibody\":false,\"patches\":{\"count\":1,\"not_t...   \n",
       "1      {\"multibody\":false,\"patches\":{\"count\":1,\"not_t...   \n",
       "2      {\"multibody\":false,\"patches\":{\"count\":1,\"not_t...   \n",
       "3      {\"multibody\":false,\"patches\":{\"count\":1,\"not_t...   \n",
       "4      {\"multibody\":false,\"patches\":{\"count\":1,\"not_t...   \n",
       "...                                                  ...   \n",
       "19995  {\"multibody\":false,\"patches\":{\"count\":1,\"not_t...   \n",
       "19996  {\"multibody\":false,\"patches\":{\"count\":4,\"not_t...   \n",
       "19997  {\"multibody\":false,\"patches\":{\"count\":1,\"not_t...   \n",
       "19998  {\"multibody\":false,\"patches\":{\"count\":13,\"not_...   \n",
       "19999  {\"multibody\":false,\"patches\":{\"count\":1,\"not_t...   \n",
       "\n",
       "                                               neighbors  \\\n",
       "0      {\"unit\":\"mm3\",\"value\":[8576,6425,3703,762,24,0...   \n",
       "1          {\"unit\":\"mm3\",\"value\":[374,4058,0,0,28,68,0]}   \n",
       "2      {\"unit\":\"mm3\",\"value\":[591,2421,2404,1524,1009...   \n",
       "3      {\"unit\":\"mm3\",\"value\":[3588,8766,4560,516,780,...   \n",
       "4      {\"unit\":\"mm3\",\"value\":[91270,55336,40349,10925...   \n",
       "...                                                  ...   \n",
       "19995  {\"unit\":\"mm3\",\"value\":[85194,31491,6508,687,75...   \n",
       "19996  {\"unit\":\"mm3\",\"value\":[78616,27113,17273,671,7...   \n",
       "19997  {\"unit\":\"mm3\",\"value\":[23162814,2335811,133032...   \n",
       "19998  {\"unit\":\"mm3\",\"value\":[183065,857294,14032,975...   \n",
       "19999  {\"unit\":\"mm3\",\"value\":[302737,79427,10992,5853...   \n",
       "\n",
       "                                                   poles  \\\n",
       "0                                                   <NA>   \n",
       "1                                                   <NA>   \n",
       "2                                                   <NA>   \n",
       "3      [{\"center\":{\"x\":-2.782968637e-24,\"y\":-2.782968...   \n",
       "4                                                   <NA>   \n",
       "...                                                  ...   \n",
       "19995                                               <NA>   \n",
       "19996                                               <NA>   \n",
       "19997                                               <NA>   \n",
       "19998                                               <NA>   \n",
       "19999                                               <NA>   \n",
       "\n",
       "                                        sheet_like_shape  \\\n",
       "0                                                   <NA>   \n",
       "1      {\"detected\":true,\"positive_fraction_of_samples...   \n",
       "2      {\"detected\":true,\"positive_fraction_of_samples...   \n",
       "3      {\"detected\":false,\"positive_fraction_of_sample...   \n",
       "4                                                   <NA>   \n",
       "...                                                  ...   \n",
       "19995  {\"detected\":false,\"positive_fraction_of_sample...   \n",
       "19996  {\"detected\":false,\"positive_fraction_of_sample...   \n",
       "19997  {\"detected\":false,\"positive_fraction_of_sample...   \n",
       "19998  {\"detected\":true,\"positive_fraction_of_samples...   \n",
       "19999  {\"detected\":true,\"positive_fraction_of_samples...   \n",
       "\n",
       "                                      unmachinable_edges  extrusion_height  \\\n",
       "0      {\"count\":1469,\"edge_list_url\":\"s3://3dhubs-pro...               NaN   \n",
       "1      {\"count\":0,\"edge_list_url\":\"s3://3dhubs-produc...               NaN   \n",
       "2      {\"count\":0,\"edge_list_url\":\"s3://3dhubs-produc...               NaN   \n",
       "3      {\"count\":0,\"edge_list_url\":\"s3://3dhubs-produc...               NaN   \n",
       "4      {\"count\":0,\"edge_list_url\":\"s3://3dhubs-produc...               NaN   \n",
       "...                                                  ...               ...   \n",
       "19995  {\"count\":38,\"edge_list_url\":\"s3://3dhubs-produ...               NaN   \n",
       "19996  {\"count\":0,\"edge_list_url\":\"s3://3dhubs-produc...               NaN   \n",
       "19997  {\"count\":16,\"edge_list_url\":\"s3://3dhubs-produ...               NaN   \n",
       "19998  {\"count\":0,\"edge_list_url\":\"s3://3dhubs-produc...               NaN   \n",
       "19999  {\"count\":0,\"edge_list_url\":\"s3://3dhubs-produc...               NaN   \n",
       "\n",
       "      units     status    time                                  uuid  \n",
       "0        mm  completed    7547  92fe59e7-eae0-4ba9-bf74-22a82f2c2c83  \n",
       "1        mm  completed    1187  0dd8b940-6b35-4ed5-a981-ce05e0734b4f  \n",
       "2        mm  completed  1228.0  9691095c-d562-4bda-813f-7dbe7398d686  \n",
       "3        mm  completed    1967  66102ac6-37a3-45b7-97dd-56d02b6ac651  \n",
       "4        mm  completed    6024  2c9d084c-dd69-4aff-8b85-a50d0f657372  \n",
       "...     ...        ...     ...                                   ...  \n",
       "19995    mm  completed  9018.0  8de71a88-b70f-4597-b02a-c4527e0bc4e5  \n",
       "19996    mm  completed    2198  a9e8292d-d0dd-43ae-bb96-63ed1a6ecf29  \n",
       "19997    mm  completed   25776  944c8cfb-17c9-44e8-95b8-7f3d1f47c7a6  \n",
       "19998    mm  completed   14152  81de3f65-199c-4ce9-883e-274179eeaa1d  \n",
       "19999    cm  completed    5309  efc9d148-f705-4605-a886-b6d6d5cb31de  \n",
       "\n",
       "[20000 rows x 18 columns]"
      ]
     },
     "execution_count": 3,
     "metadata": {},
     "output_type": "execute_result"
    }
   ],
   "source": [
    "data"
   ]
  },
  {
   "attachments": {},
   "cell_type": "markdown",
   "id": "a94a8f6f",
   "metadata": {},
   "source": [
    "Next, I check the data types of the columns in the DataFrame. Most of the columns are technically strings, but a lot of these columns contain deeply nested dictionaries/objects containing data on different things about the 3D model."
   ]
  },
  {
   "cell_type": "code",
   "execution_count": 4,
   "id": "dc446969",
   "metadata": {},
   "outputs": [
    {
     "data": {
      "text/plain": [
       "created                  string\n",
       "updated                  string\n",
       "queued                   string\n",
       "geometric_heuristics     string\n",
       "holes                    string\n",
       "job_run_time             string\n",
       "latheability             string\n",
       "machining_directions     string\n",
       "multipart                string\n",
       "neighbors                string\n",
       "poles                    string\n",
       "sheet_like_shape         string\n",
       "unmachinable_edges       string\n",
       "extrusion_height        float64\n",
       "units                    string\n",
       "status                   string\n",
       "time                     string\n",
       "uuid                     object\n",
       "dtype: object"
      ]
     },
     "execution_count": 4,
     "metadata": {},
     "output_type": "execute_result"
    }
   ],
   "source": [
    "data.dtypes"
   ]
  },
  {
   "attachments": {},
   "cell_type": "markdown",
   "id": "e6958e1f",
   "metadata": {},
   "source": [
    "An example is the `holes` column. Let's pull up a random row with this field. This one has 8 holes with the following keys: `center`, `direction`, `end1`, `end2`, `facet_count`, `length`, and `radius`. Within the `center` and `direction` keys, there are these following keys: `x`, `y`, and `z`. Within `end1` and `end2`, there are these following keys: `closed` and `reachable`.\n",
    "\n",
    "All this information is stored in only one column in the Parquet file. This is not analytics-friendly, and thus should be flattened. Additionally, some rows have `<NA>` values in the `holes` field. The holes data should be moved to another table as well."
   ]
  },
  {
   "cell_type": "code",
   "execution_count": 5,
   "id": "edddac52",
   "metadata": {},
   "outputs": [
    {
     "data": {
      "text/plain": [
       "[{'center': {'x': -90.9999647821, 'y': 10.75000067, 'z': 1.24627e-05},\n",
       "  'direction': {'x': -0.0004851845, 'y': 0.9999910869, 'z': -0.0001722608},\n",
       "  'end1': {'closed': False, 'reachable': True},\n",
       "  'end2': {'closed': False, 'reachable': True},\n",
       "  'facet_count': 137,\n",
       "  'length': 20.0064318157,\n",
       "  'radius': 6.2500018623},\n",
       " {'center': {'x': -45.4999648063, 'y': 10.7500006742, 'z': -78.8082992115},\n",
       "  'direction': {'x': -0.0004851623, 'y': 0.9999910874, 'z': -0.0001721883},\n",
       "  'end1': {'closed': False, 'reachable': True},\n",
       "  'end2': {'closed': False, 'reachable': True},\n",
       "  'facet_count': 137,\n",
       "  'length': 20.0064312413,\n",
       "  'radius': 6.2500017931},\n",
       " {'center': {'x': -45.4999648045, 'y': 10.7500006753, 'z': 78.8083242803},\n",
       "  'direction': {'x': -0.0004851884, 'y': 0.9999910873, 'z': -0.0001721856},\n",
       "  'end1': {'closed': False, 'reachable': True},\n",
       "  'end2': {'closed': False, 'reachable': True},\n",
       "  'facet_count': 137,\n",
       "  'length': 20.0064315358,\n",
       "  'radius': 6.2500017029},\n",
       " {'center': {'x': 3.95064e-05, 'y': 10.7500008503, 'z': -90.9999859291},\n",
       "  'direction': {'x': -0.0005433995, 'y': 0.9999888205, 'z': -0.0001928147},\n",
       "  'end1': {'closed': False, 'reachable': True},\n",
       "  'end2': {'closed': False, 'reachable': True},\n",
       "  'facet_count': 137,\n",
       "  'length': 20.0080674238,\n",
       "  'radius': 7.0000022648},\n",
       " {'center': {'x': 3.95067e-05, 'y': 10.7500008503, 'z': 91.0000140709},\n",
       "  'direction': {'x': -0.0005433995, 'y': 0.9999888205, 'z': -0.0001928147},\n",
       "  'end1': {'closed': False, 'reachable': True},\n",
       "  'end2': {'closed': False, 'reachable': True},\n",
       "  'facet_count': 137,\n",
       "  'length': 20.0080674238,\n",
       "  'radius': 7.0000022648},\n",
       " {'center': {'x': 45.5000351937, 'y': 10.7500006742, 'z': -78.8082992115},\n",
       "  'direction': {'x': -0.0004851623, 'y': 0.9999910874, 'z': -0.0001721883},\n",
       "  'end1': {'closed': False, 'reachable': True},\n",
       "  'end2': {'closed': False, 'reachable': True},\n",
       "  'facet_count': 137,\n",
       "  'length': 20.0064312413,\n",
       "  'radius': 6.2500017931},\n",
       " {'center': {'x': 45.5000351955, 'y': 10.7500006753, 'z': 78.8083242803},\n",
       "  'direction': {'x': -0.0004851884, 'y': 0.9999910873, 'z': -0.0001721856},\n",
       "  'end1': {'closed': False, 'reachable': True},\n",
       "  'end2': {'closed': False, 'reachable': True},\n",
       "  'facet_count': 137,\n",
       "  'length': 20.0064315358,\n",
       "  'radius': 6.2500017029},\n",
       " {'center': {'x': 91.0000352179, 'y': 10.75000067, 'z': 1.24633e-05},\n",
       "  'direction': {'x': -0.0004851845, 'y': 0.9999910869, 'z': -0.0001722608},\n",
       "  'end1': {'closed': False, 'reachable': True},\n",
       "  'end2': {'closed': False, 'reachable': True},\n",
       "  'facet_count': 137,\n",
       "  'length': 20.0064318157,\n",
       "  'radius': 6.2500018623}]"
      ]
     },
     "execution_count": 5,
     "metadata": {},
     "output_type": "execute_result"
    }
   ],
   "source": [
    "json.loads(data.loc[8].holes)"
   ]
  },
  {
   "cell_type": "code",
   "execution_count": 6,
   "id": "b77d849b",
   "metadata": {},
   "outputs": [
    {
     "data": {
      "text/plain": [
       "9789"
      ]
     },
     "execution_count": 6,
     "metadata": {},
     "output_type": "execute_result"
    }
   ],
   "source": [
    "# Number of rows with <NA> holes value\n",
    "len(data[pd.isna(data.holes)])"
   ]
  },
  {
   "attachments": {},
   "cell_type": "markdown",
   "id": "6c3a0072",
   "metadata": {},
   "source": [
    "Additionally, I noticed that the `facet_count` values in the `holes` column have different data"
   ]
  },
  {
   "attachments": {},
   "cell_type": "markdown",
   "id": "bbae6de7",
   "metadata": {},
   "source": [
    "### Transform and load `holes` Pandas DataFrame to SQLite table"
   ]
  },
  {
   "cell_type": "code",
   "execution_count": 7,
   "id": "db9af92f",
   "metadata": {},
   "outputs": [
    {
     "name": "stdout",
     "output_type": "stream",
     "text": [
      "Transforming data...\n",
      "Done! Elapsed time: 36.980764389038086\n"
     ]
    }
   ],
   "source": [
    "engine = create_engine(\"sqlite://\", echo=False)\n",
    "\n",
    "transformed_tables = main()\n",
    "holes_df = transformed_tables[\"holes\"]\n",
    "\n",
    "# Import to the SQL DB all the transformed tables:\n",
    "# NOTE: JSON/object data type is not supported in SQLite so I cast it to string data type\n",
    "for k,v in transformed_tables.items():\n",
    "    v.to_sql(k, con=engine, if_exists=\"append\")"
   ]
  },
  {
   "attachments": {},
   "cell_type": "markdown",
   "id": "7da3707b",
   "metadata": {},
   "source": [
    "### Run queries"
   ]
  },
  {
   "cell_type": "code",
   "execution_count": 8,
   "metadata": {},
   "outputs": [],
   "source": [
    "def run_query(query):\n",
    "    results = []\n",
    "    with engine.connect() as conn:\n",
    "        results = conn.execute(text(query)).fetchall()\n",
    "\n",
    "    conn.close()\n",
    "\n",
    "    return results\n",
    "    "
   ]
  },
  {
   "attachments": {},
   "cell_type": "markdown",
   "id": "8992373f",
   "metadata": {},
   "source": [
    "Results obtained in **Python (Pandas field calculation)**:"
   ]
  },
  {
   "cell_type": "code",
   "execution_count": 9,
   "id": "e3a4e5e5",
   "metadata": {},
   "outputs": [
    {
     "name": "stdout",
     "output_type": "stream",
     "text": [
      "The unique models that should trigger an unreachable hole warning are: 326\n",
      "% Over Total UUID with holes: 3.19%\n"
     ]
    }
   ],
   "source": [
    "# Has Unreachable Hole Warning\n",
    "\n",
    "warning_query = \"\"\"\n",
    "    select count(distinct case when has_unreachable_hole_warning = True then uuid else null end),\n",
    "        count(distinct case when has_unreachable_hole_warning = True then uuid else null end) * 100.0 / count(distinct uuid)\n",
    "    from holes\n",
    "\"\"\"\n",
    "warning_results = run_query(warning_query)\n",
    "print(\"The unique models that should trigger an unreachable hole warning are:\", warning_results[0][0])\n",
    "print(\"% Over Total UUID with holes:\", str(round(warning_results[0][1], 2)) + \"%\")"
   ]
  },
  {
   "cell_type": "code",
   "execution_count": 10,
   "id": "3ecef597",
   "metadata": {},
   "outputs": [
    {
     "name": "stdout",
     "output_type": "stream",
     "text": [
      "The unique models that should trigger an unreachable hole error are: 39\n",
      "% Over Total UUID with holes: 0.38%\n"
     ]
    }
   ],
   "source": [
    "# Has Unreachable Hole Error\n",
    "\n",
    "error_query = \"\"\"\n",
    "    select count(distinct case when has_unreachable_hole_error = True then uuid else null end),\n",
    "        count(distinct case when has_unreachable_hole_error = True then uuid else null end) * 100.0 / count(distinct uuid)\n",
    "    from holes\n",
    "\"\"\"\n",
    "error_results = run_query(error_query)\n",
    "print(\"The unique models that should trigger an unreachable hole error are:\", error_results[0][0])\n",
    "print(\"% Over Total UUID with holes:\", str(round(error_results[0][1], 2)) + \"%\")"
   ]
  },
  {
   "attachments": {},
   "cell_type": "markdown",
   "id": "ee8fca62",
   "metadata": {},
   "source": [
    "With the flattened `holes` table loaded in SQL, I try to find a solution through **SQL** as well:"
   ]
  },
  {
   "cell_type": "code",
   "execution_count": 11,
   "id": "3df8c229",
   "metadata": {},
   "outputs": [
    {
     "name": "stdout",
     "output_type": "stream",
     "text": [
      "The unique models that should trigger an unreachable hole warning are: 326\n",
      "% Over Total UUID with holes: 3.19%\n"
     ]
    }
   ],
   "source": [
    "sql_has_unreachable_holes_warning_query = \"\"\"\n",
    "    with poor_ratio as (\n",
    "        select uuid, (sum(distinct case when length > radius * 20 then 1 else 0 end) > 0) as has_poor_ratio\n",
    "        from holes\n",
    "        group by uuid\n",
    "    )\n",
    "\n",
    "    select count(distinct case when has_poor_ratio = 1 then uuid else null end),\n",
    "        count(distinct case when has_poor_ratio = 1 then uuid else null end) * 100.0 / count(distinct uuid)\n",
    "    from poor_ratio\n",
    "\"\"\"\n",
    "sql_has_unreachable_holes_warning_solution = run_query(sql_has_unreachable_holes_warning_query)\n",
    "print(\"The unique models that should trigger an unreachable hole warning are:\", sql_has_unreachable_holes_warning_solution[0][0])\n",
    "print(\"% Over Total UUID with holes:\", str(round(sql_has_unreachable_holes_warning_solution[0][1], 2)) + \"%\")"
   ]
  },
  {
   "cell_type": "code",
   "execution_count": 12,
   "id": "8ff32421",
   "metadata": {},
   "outputs": [
    {
     "name": "stdout",
     "output_type": "stream",
     "text": [
      "The unique models that should trigger an unreachable hole error are: 39\n",
      "% Over Total UUID with holes: 0.38%\n"
     ]
    }
   ],
   "source": [
    "sql_has_unreachable_holes_error_query = \"\"\"\n",
    "    with critical_ratio as (\n",
    "        select uuid, (sum(distinct case when length > radius * 80 then 1 else 0 end) > 0) as has_critical_ratio\n",
    "        from holes\n",
    "        group by uuid\n",
    "    )\n",
    "\n",
    "    select count(distinct case when has_critical_ratio = 1 then uuid else null end),\n",
    "        count(distinct case when has_critical_ratio = 1 then uuid else null end) * 100.0 / count(distinct uuid)\n",
    "    from critical_ratio\n",
    "\"\"\"\n",
    "sql_has_unreachable_holes_error_solution = run_query(sql_has_unreachable_holes_error_query)\n",
    "print(\"The unique models that should trigger an unreachable hole error are:\", sql_has_unreachable_holes_error_solution[0][0])\n",
    "print(\"% Over Total UUID with holes:\", str(round(sql_has_unreachable_holes_error_solution[0][1], 2)) + \"%\")"
   ]
  },
  {
   "attachments": {},
   "cell_type": "markdown",
   "id": "f0b5b0b8",
   "metadata": {},
   "source": [
    "The two solutions arrive at the same answers."
   ]
  },
  {
   "attachments": {},
   "cell_type": "markdown",
   "id": "b5e11ae0",
   "metadata": {},
   "source": [
    "All models with a warning/error for unreachable holes are tagged as \"completed\":"
   ]
  },
  {
   "cell_type": "code",
   "execution_count": 13,
   "id": "ad98385d",
   "metadata": {},
   "outputs": [
    {
     "name": "stdout",
     "output_type": "stream",
     "text": [
      "completed: 326\n"
     ]
    }
   ],
   "source": [
    "# Models with Unreachable Hole Warning Count Grouped by Status\n",
    "\n",
    "warning_status_query = \"\"\"\n",
    "    select status,\n",
    "        count(distinct uuid)\n",
    "    from models m\n",
    "    where has_unreachable_hole_warning = True\n",
    "    group by status\n",
    "\"\"\"\n",
    "warning_status_results = run_query(warning_status_query)\n",
    "\n",
    "for row in warning_status_results:\n",
    "    print(str(row[0]) + \":\", row[1])"
   ]
  },
  {
   "cell_type": "code",
   "execution_count": 14,
   "id": "38995c3a",
   "metadata": {},
   "outputs": [
    {
     "name": "stdout",
     "output_type": "stream",
     "text": [
      "completed: 39\n"
     ]
    }
   ],
   "source": [
    "# Models with Unreachable Hole Error Count Grouped by Status\n",
    "\n",
    "error_status_query = \"\"\"\n",
    "    select status,\n",
    "        count(distinct uuid)\n",
    "    from models m\n",
    "    where has_unreachable_hole_error = True\n",
    "    group by status\n",
    "\"\"\"\n",
    "error_status_results = run_query(error_status_query)\n",
    "\n",
    "for row in error_status_results:\n",
    "    print(str(row[0]) + \":\", row[1])"
   ]
  },
  {
   "attachments": {},
   "cell_type": "markdown",
   "id": "7566e960",
   "metadata": {},
   "source": [
    "Finally, going through the transformed tables in the SQL database, the size and the volume of the data in the given Parquet file can be seen more clearly, as they are flattened."
   ]
  },
  {
   "cell_type": "code",
   "execution_count": 15,
   "id": "df53f9d4",
   "metadata": {},
   "outputs": [
    {
     "name": "stdout",
     "output_type": "stream",
     "text": [
      "Number of rows per table:\n",
      "- holes: 135015\n",
      "- latheability: 17503\n",
      "- machining_directions: 19938\n",
      "- models: 20000\n",
      "- neighbors: 139566\n",
      "- poles: 6307\n"
     ]
    }
   ],
   "source": [
    "table_names = [\"holes\", \"latheability\", \"machining_directions\", \"models\", \"neighbors\", \"poles\"]\n",
    "\n",
    "print(\"Number of rows per table:\")\n",
    "for t in table_names:\n",
    "    print(\"- \" + str(t) + \":\", run_query(\"select count(*) from {}\".format(t))[0][0])"
   ]
  },
  {
   "attachments": {},
   "cell_type": "markdown",
   "id": "4595a25c",
   "metadata": {},
   "source": [
    "If I could flatten the data more, I would most likely explode the `direction_removable_volume` and `selected_directions` fields in the `machining_directions` table, but for now I don't fully get the context of where this information is used, so I did not do that in this project."
   ]
  },
  {
   "attachments": {},
   "cell_type": "markdown",
   "id": "bc286008",
   "metadata": {},
   "source": [
    "Thanks for reading through my work!"
   ]
  }
 ],
 "metadata": {
  "kernelspec": {
   "display_name": "hubs",
   "language": "python",
   "name": "python3"
  },
  "language_info": {
   "codemirror_mode": {
    "name": "ipython",
    "version": 3
   },
   "file_extension": ".py",
   "mimetype": "text/x-python",
   "name": "python",
   "nbconvert_exporter": "python",
   "pygments_lexer": "ipython3",
   "version": "3.9.13"
  }
 },
 "nbformat": 4,
 "nbformat_minor": 5
}
